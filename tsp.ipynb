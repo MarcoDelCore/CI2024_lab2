{
 "cells": [
  {
   "cell_type": "markdown",
   "metadata": {},
   "source": [
    "# TSP Problem"
   ]
  },
  {
   "cell_type": "code",
   "execution_count": 323,
   "metadata": {},
   "outputs": [],
   "source": [
    "import numpy as np\n",
    "import pandas as pd\n",
    "from geopy.distance import geodesic\n",
    "from itertools import combinations\n",
    "import networkx as nx\n",
    "import random\n",
    "\n",
    "from icecream import ic"
   ]
  },
  {
   "cell_type": "markdown",
   "metadata": {},
   "source": [
    "## Useful functions and declarations"
   ]
  },
  {
   "cell_type": "code",
   "execution_count": 333,
   "metadata": {},
   "outputs": [
    {
     "data": {
      "text/html": [
       "<div>\n",
       "<style scoped>\n",
       "    .dataframe tbody tr th:only-of-type {\n",
       "        vertical-align: middle;\n",
       "    }\n",
       "\n",
       "    .dataframe tbody tr th {\n",
       "        vertical-align: top;\n",
       "    }\n",
       "\n",
       "    .dataframe thead th {\n",
       "        text-align: right;\n",
       "    }\n",
       "</style>\n",
       "<table border=\"1\" class=\"dataframe\">\n",
       "  <thead>\n",
       "    <tr style=\"text-align: right;\">\n",
       "      <th></th>\n",
       "      <th>name</th>\n",
       "      <th>lat</th>\n",
       "      <th>lon</th>\n",
       "    </tr>\n",
       "  </thead>\n",
       "  <tbody>\n",
       "    <tr>\n",
       "      <th>0</th>\n",
       "      <td>Ancona</td>\n",
       "      <td>43.60</td>\n",
       "      <td>13.50</td>\n",
       "    </tr>\n",
       "    <tr>\n",
       "      <th>1</th>\n",
       "      <td>Andria</td>\n",
       "      <td>41.23</td>\n",
       "      <td>16.29</td>\n",
       "    </tr>\n",
       "    <tr>\n",
       "      <th>2</th>\n",
       "      <td>Bari</td>\n",
       "      <td>41.12</td>\n",
       "      <td>16.87</td>\n",
       "    </tr>\n",
       "    <tr>\n",
       "      <th>3</th>\n",
       "      <td>Bergamo</td>\n",
       "      <td>45.70</td>\n",
       "      <td>9.67</td>\n",
       "    </tr>\n",
       "    <tr>\n",
       "      <th>4</th>\n",
       "      <td>Bologna</td>\n",
       "      <td>44.50</td>\n",
       "      <td>11.34</td>\n",
       "    </tr>\n",
       "  </tbody>\n",
       "</table>\n",
       "</div>"
      ],
      "text/plain": [
       "      name    lat    lon\n",
       "0   Ancona  43.60  13.50\n",
       "1   Andria  41.23  16.29\n",
       "2     Bari  41.12  16.87\n",
       "3  Bergamo  45.70   9.67\n",
       "4  Bologna  44.50  11.34"
      ]
     },
     "execution_count": 333,
     "metadata": {},
     "output_type": "execute_result"
    }
   ],
   "source": [
    "CITIES = pd.read_csv('cities/italy.csv', header=None, names=['name', 'lat', 'lon'])\n",
    "DIST_MATRIX = np.zeros((len(CITIES), len(CITIES)))\n",
    "\n",
    "for c1, c2 in combinations(CITIES.itertuples(), 2):\n",
    "    DIST_MATRIX[c1.Index, c2.Index] = DIST_MATRIX[c2.Index, c1.Index] = geodesic(\n",
    "        (c1.lat, c1.lon), (c2.lat, c2.lon)\n",
    "    ).km\n",
    "\n",
    "\n",
    "def tsp_cost(tsp):\n",
    "    assert tsp[0] == tsp[-1]\n",
    "    tot_cost = 0\n",
    "    for c1, c2 in zip(tsp, tsp[1:]):\n",
    "        tot_cost += DIST_MATRIX[c1, c2]\n",
    "    return tot_cost\n",
    "\n",
    "CITIES.head()"
   ]
  },
  {
   "cell_type": "markdown",
   "metadata": {},
   "source": [
    "## Greedy starting solution"
   ]
  },
  {
   "cell_type": "code",
   "execution_count": 334,
   "metadata": {},
   "outputs": [
    {
     "name": "stderr",
     "output_type": "stream",
     "text": [
      "ic| tsp_cost(tsp): np.float64(5164.960063767532)\n"
     ]
    }
   ],
   "source": [
    "segments = [\n",
    "    ((c1, c2, float(DIST_MATRIX[c1, c2]))) for c1, c2 in combinations(range(len(CITIES)), 2)\n",
    "]\n",
    "\n",
    "G = nx.Graph()\n",
    "G.add_weighted_edges_from(segments)\n",
    "\n",
    "segments.sort(key=lambda x: x[2], reverse=True)\n",
    "\n",
    "starting_node = segments[0][0]\n",
    "tsp = []\n",
    "visited = np.full(len(CITIES), False)\n",
    "\n",
    "current_city = starting_node\n",
    "tsp.append(current_city)\n",
    "visited[current_city] = True\n",
    "\n",
    "while not np.all(visited):\n",
    "    neighbors = sorted(G[current_city], key=lambda x: G[current_city][x]['weight'])\n",
    " \n",
    "    for n in neighbors:\n",
    "        if not visited[n]:\n",
    "            next_city = n\n",
    "            break\n",
    "\n",
    "    tsp.append(next_city)\n",
    "    visited[next_city] = True\n",
    "    current_city = next_city\n",
    "\n",
    "tsp.append(starting_node)\n",
    "\n",
    "ic(tsp_cost(tsp))\n",
    "None"
   ]
  },
  {
   "cell_type": "markdown",
   "metadata": {},
   "source": [
    "## Evolutionary Algorithm"
   ]
  },
  {
   "cell_type": "code",
   "execution_count": 335,
   "metadata": {},
   "outputs": [],
   "source": [
    "def order_crossover(parent1, parent2):\n",
    "    start, end = sorted(random.sample(range(1, len(parent1)-1), 2))\n",
    "    #ic((start, end))\n",
    "    child = [-1] * len(parent1)\n",
    "\n",
    "    child[start:end + 1] = parent1[start:end + 1]\n",
    "    \n",
    "    current_pos = (end + 1) % len(parent1)  \n",
    "    for city in parent2:\n",
    "        if city not in child:\n",
    "            child[current_pos] = city\n",
    "            current_pos = (current_pos + 1) % len(parent1)\n",
    "            if current_pos == 0:\n",
    "                child[current_pos] = city\n",
    "                current_pos = (current_pos + 1) % len(parent1)  \n",
    "            \n",
    "            if current_pos == start:\n",
    "                current_pos = (current_pos + (end - start)) % len(parent1)\n",
    "    \n",
    "    return child\n",
    "\n",
    "# Funzione di mutazione\n",
    "def mutate(tsp):\n",
    "    i, j = sorted(random.sample(range(1, len(tsp) - 1), 2))  # Evita la prima e l'ultima città\n",
    "    tsp[i], tsp[j] = tsp[j], tsp[i]\n",
    "    return tsp"
   ]
  },
  {
   "cell_type": "code",
   "execution_count": 336,
   "metadata": {},
   "outputs": [
    {
     "name": "stderr",
     "output_type": "stream",
     "text": [
      "ic| tsp_cost(tsp): np.float64(4268.210032449508)\n"
     ]
    }
   ],
   "source": [
    "population = [tsp]\n",
    "for _ in range(50):\n",
    "    individual = np.random.permutation(len(CITIES)).tolist()\n",
    "    individual.append(individual[0])\n",
    "    population.append(individual)\n",
    "\n",
    "\n",
    "GENERATIONS = 10_000\n",
    "POPULATION_SIZE = 10\n",
    "MUTATION_RATE = 0.5\n",
    "\n",
    "for _ in range(GENERATIONS):\n",
    "    population.sort(key=tsp_cost)\n",
    "    next_gen = population[:POPULATION_SIZE]\n",
    "\n",
    "    while len(next_gen) < len(population):\n",
    "        parent1, parent2 = random.sample(population[:POPULATION_SIZE], 2)\n",
    "        child = order_crossover(parent1, parent2)\n",
    "\n",
    "        if np.random.random() < MUTATION_RATE:\n",
    "            child = mutate(child)\n",
    "\n",
    "        next_gen.append(child)\n",
    "\n",
    "    population = next_gen\n",
    "\n",
    "tsp = min(population, key=tsp_cost)\n",
    "ic(tsp_cost(tsp))\n",
    "None\n"
   ]
  }
 ],
 "metadata": {
  "kernelspec": {
   "display_name": "ci-HeutG-Sk-py3.12",
   "language": "python",
   "name": "python3"
  },
  "language_info": {
   "codemirror_mode": {
    "name": "ipython",
    "version": 3
   },
   "file_extension": ".py",
   "mimetype": "text/x-python",
   "name": "python",
   "nbconvert_exporter": "python",
   "pygments_lexer": "ipython3",
   "version": "3.12.6"
  }
 },
 "nbformat": 4,
 "nbformat_minor": 2
}
